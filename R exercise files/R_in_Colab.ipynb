{
  "nbformat": 4,
  "nbformat_minor": 0,
  "metadata": {
    "colab": {
      "name": "R in Colab.ipynb",
      "provenance": []
    },
    "kernelspec": {
      "name": "python3",
      "display_name": "Python 3"
    }
  },
  "cells": [
    {
      "cell_type": "markdown",
      "metadata": {
        "id": "Yb7e_WLow9Ho",
        "colab_type": "text"
      },
      "source": [
        "# Please don't edit directly in this document. Create your own copy first.#\n",
        "\n",
        "# Exercise: Canadian National Digital Heritage Index"
      ]
    },
    {
      "cell_type": "markdown",
      "metadata": {
        "id": "C4wzErzZxcbH",
        "colab_type": "text"
      },
      "source": [
        "# [Web Scraping]\n",
        "\n",
        "## 1. R environment in the Jupyter Notebook environment \n",
        "\n",
        "First, you need load R in this environment to run R codes."
      ]
    },
    {
      "cell_type": "code",
      "metadata": {
        "id": "GsYJT2ae4CcB",
        "colab_type": "code",
        "colab": {}
      },
      "source": [
        "# Load R\n",
        "%reload_ext rpy2.ipython\n",
        "%config IPCompleter.greedy=True\n",
        "%config InlineBackend.figure_format = 'retina'"
      ],
      "execution_count": 0,
      "outputs": []
    },
    {
      "cell_type": "markdown",
      "metadata": {
        "id": "uqPeD6hb7JYj",
        "colab_type": "text"
      },
      "source": [
        "## 2. Install and import R packages\n",
        "\n",
        "*   [Rcrawler](https://cran.r-project.org/web/packages/Rcrawler/index.html): R package for web crawling and web scraping\n",
        "*   [data.table](https://cran.r-project.org/web/packages/data.table/index.html): R pacakge for large data manipulation\n",
        "\n"
      ]
    },
    {
      "cell_type": "code",
      "metadata": {
        "id": "P4oWDpSb4dWB",
        "colab_type": "code",
        "outputId": "f850d815-2dac-4d55-c9a3-38d31b7712ca",
        "colab": {
          "base_uri": "https://localhost:8080/",
          "height": 1000
        }
      },
      "source": [
        "# indicate that you're running R code\n",
        "%%R\n",
        "\n",
        "# Install if it's your first time to run\n",
        "install.packages(\"Rcrawler\") \n",
        "install.packages(\"data.table\") \n",
        "\n",
        "# Load\n",
        "library(Rcrawler) \n",
        "library(data.table)"
      ],
      "execution_count": 0,
      "outputs": [
        {
          "output_type": "stream",
          "text": [
            "/usr/local/lib/python3.6/dist-packages/rpy2/rinterface/__init__.py:146: RRuntimeWarning: Installing package into ‘/usr/local/lib/R/site-library’\n",
            "(as ‘lib’ is unspecified)\n",
            "\n",
            "  warnings.warn(x, RRuntimeWarning)\n",
            "/usr/local/lib/python3.6/dist-packages/rpy2/rinterface/__init__.py:146: RRuntimeWarning: also installing the dependencies ‘png’, ‘iterators’, ‘debugme’, ‘showimage’, ‘data.table’, ‘foreach’, ‘doParallel’, ‘webdriver’\n",
            "\n",
            "\n",
            "  warnings.warn(x, RRuntimeWarning)\n",
            "/usr/local/lib/python3.6/dist-packages/rpy2/rinterface/__init__.py:146: RRuntimeWarning: trying URL 'https://cran.rstudio.com/src/contrib/png_0.1-7.tar.gz'\n",
            "\n",
            "  warnings.warn(x, RRuntimeWarning)\n",
            "/usr/local/lib/python3.6/dist-packages/rpy2/rinterface/__init__.py:146: RRuntimeWarning: Content type 'application/x-gzip'\n",
            "  warnings.warn(x, RRuntimeWarning)\n",
            "/usr/local/lib/python3.6/dist-packages/rpy2/rinterface/__init__.py:146: RRuntimeWarning:  length 24990 bytes (24 KB)\n",
            "\n",
            "  warnings.warn(x, RRuntimeWarning)\n",
            "/usr/local/lib/python3.6/dist-packages/rpy2/rinterface/__init__.py:146: RRuntimeWarning: =\n",
            "  warnings.warn(x, RRuntimeWarning)\n",
            "/usr/local/lib/python3.6/dist-packages/rpy2/rinterface/__init__.py:146: RRuntimeWarning: \n",
            "\n",
            "  warnings.warn(x, RRuntimeWarning)\n",
            "/usr/local/lib/python3.6/dist-packages/rpy2/rinterface/__init__.py:146: RRuntimeWarning: downloaded 24 KB\n",
            "\n",
            "\n",
            "  warnings.warn(x, RRuntimeWarning)\n",
            "/usr/local/lib/python3.6/dist-packages/rpy2/rinterface/__init__.py:146: RRuntimeWarning: trying URL 'https://cran.rstudio.com/src/contrib/iterators_1.0.12.tar.gz'\n",
            "\n",
            "  warnings.warn(x, RRuntimeWarning)\n",
            "/usr/local/lib/python3.6/dist-packages/rpy2/rinterface/__init__.py:146: RRuntimeWarning:  length 289201 bytes (282 KB)\n",
            "\n",
            "  warnings.warn(x, RRuntimeWarning)\n",
            "/usr/local/lib/python3.6/dist-packages/rpy2/rinterface/__init__.py:146: RRuntimeWarning: downloaded 282 KB\n",
            "\n",
            "\n",
            "  warnings.warn(x, RRuntimeWarning)\n",
            "/usr/local/lib/python3.6/dist-packages/rpy2/rinterface/__init__.py:146: RRuntimeWarning: trying URL 'https://cran.rstudio.com/src/contrib/debugme_1.1.0.tar.gz'\n",
            "\n",
            "  warnings.warn(x, RRuntimeWarning)\n",
            "/usr/local/lib/python3.6/dist-packages/rpy2/rinterface/__init__.py:146: RRuntimeWarning:  length 997266 bytes (973 KB)\n",
            "\n",
            "  warnings.warn(x, RRuntimeWarning)\n",
            "/usr/local/lib/python3.6/dist-packages/rpy2/rinterface/__init__.py:146: RRuntimeWarning: downloaded 973 KB\n",
            "\n",
            "\n",
            "  warnings.warn(x, RRuntimeWarning)\n",
            "/usr/local/lib/python3.6/dist-packages/rpy2/rinterface/__init__.py:146: RRuntimeWarning: trying URL 'https://cran.rstudio.com/src/contrib/showimage_1.0.0.tar.gz'\n",
            "\n",
            "  warnings.warn(x, RRuntimeWarning)\n",
            "/usr/local/lib/python3.6/dist-packages/rpy2/rinterface/__init__.py:146: RRuntimeWarning:  length 3438 bytes\n",
            "\n",
            "  warnings.warn(x, RRuntimeWarning)\n",
            "/usr/local/lib/python3.6/dist-packages/rpy2/rinterface/__init__.py:146: RRuntimeWarning: downloaded 3438 bytes\n",
            "\n",
            "\n",
            "  warnings.warn(x, RRuntimeWarning)\n",
            "/usr/local/lib/python3.6/dist-packages/rpy2/rinterface/__init__.py:146: RRuntimeWarning: trying URL 'https://cran.rstudio.com/src/contrib/data.table_1.12.6.tar.gz'\n",
            "\n",
            "  warnings.warn(x, RRuntimeWarning)\n",
            "/usr/local/lib/python3.6/dist-packages/rpy2/rinterface/__init__.py:146: RRuntimeWarning:  length 4944372 bytes (4.7 MB)\n",
            "\n",
            "  warnings.warn(x, RRuntimeWarning)\n",
            "/usr/local/lib/python3.6/dist-packages/rpy2/rinterface/__init__.py:146: RRuntimeWarning: downloaded 4.7 MB\n",
            "\n",
            "\n",
            "  warnings.warn(x, RRuntimeWarning)\n",
            "/usr/local/lib/python3.6/dist-packages/rpy2/rinterface/__init__.py:146: RRuntimeWarning: trying URL 'https://cran.rstudio.com/src/contrib/foreach_1.4.7.tar.gz'\n",
            "\n",
            "  warnings.warn(x, RRuntimeWarning)\n",
            "/usr/local/lib/python3.6/dist-packages/rpy2/rinterface/__init__.py:146: RRuntimeWarning:  length 359074 bytes (350 KB)\n",
            "\n",
            "  warnings.warn(x, RRuntimeWarning)\n",
            "/usr/local/lib/python3.6/dist-packages/rpy2/rinterface/__init__.py:146: RRuntimeWarning: downloaded 350 KB\n",
            "\n",
            "\n",
            "  warnings.warn(x, RRuntimeWarning)\n",
            "/usr/local/lib/python3.6/dist-packages/rpy2/rinterface/__init__.py:146: RRuntimeWarning: trying URL 'https://cran.rstudio.com/src/contrib/doParallel_1.0.15.tar.gz'\n",
            "\n",
            "  warnings.warn(x, RRuntimeWarning)\n",
            "/usr/local/lib/python3.6/dist-packages/rpy2/rinterface/__init__.py:146: RRuntimeWarning:  length 173578 bytes (169 KB)\n",
            "\n",
            "  warnings.warn(x, RRuntimeWarning)\n",
            "/usr/local/lib/python3.6/dist-packages/rpy2/rinterface/__init__.py:146: RRuntimeWarning: downloaded 169 KB\n",
            "\n",
            "\n",
            "  warnings.warn(x, RRuntimeWarning)\n",
            "/usr/local/lib/python3.6/dist-packages/rpy2/rinterface/__init__.py:146: RRuntimeWarning: trying URL 'https://cran.rstudio.com/src/contrib/webdriver_1.0.5.tar.gz'\n",
            "\n",
            "  warnings.warn(x, RRuntimeWarning)\n",
            "/usr/local/lib/python3.6/dist-packages/rpy2/rinterface/__init__.py:146: RRuntimeWarning:  length 280668 bytes (274 KB)\n",
            "\n",
            "  warnings.warn(x, RRuntimeWarning)\n",
            "/usr/local/lib/python3.6/dist-packages/rpy2/rinterface/__init__.py:146: RRuntimeWarning: downloaded 274 KB\n",
            "\n",
            "\n",
            "  warnings.warn(x, RRuntimeWarning)\n",
            "/usr/local/lib/python3.6/dist-packages/rpy2/rinterface/__init__.py:146: RRuntimeWarning: trying URL 'https://cran.rstudio.com/src/contrib/Rcrawler_0.1.9-1.tar.gz'\n",
            "\n",
            "  warnings.warn(x, RRuntimeWarning)\n",
            "/usr/local/lib/python3.6/dist-packages/rpy2/rinterface/__init__.py:146: RRuntimeWarning:  length 50510 bytes (49 KB)\n",
            "\n",
            "  warnings.warn(x, RRuntimeWarning)\n",
            "/usr/local/lib/python3.6/dist-packages/rpy2/rinterface/__init__.py:146: RRuntimeWarning: downloaded 49 KB\n",
            "\n",
            "\n",
            "  warnings.warn(x, RRuntimeWarning)\n",
            "/usr/local/lib/python3.6/dist-packages/rpy2/rinterface/__init__.py:146: RRuntimeWarning: \n",
            "  warnings.warn(x, RRuntimeWarning)\n",
            "/usr/local/lib/python3.6/dist-packages/rpy2/rinterface/__init__.py:146: RRuntimeWarning: The downloaded source packages are in\n",
            "\t‘/tmp/RtmpXHcOLO/downloaded_packages’\n",
            "  warnings.warn(x, RRuntimeWarning)\n",
            "/usr/local/lib/python3.6/dist-packages/rpy2/rinterface/__init__.py:146: RRuntimeWarning: data.table 1.12.6 using 1 threads (see ?getDTthreads).  Latest news: r-datatable.com\n",
            "\n",
            "  warnings.warn(x, RRuntimeWarning)\n"
          ],
          "name": "stderr"
        }
      ]
    },
    {
      "cell_type": "markdown",
      "metadata": {
        "id": "lNYlYws_8Wjm",
        "colab_type": "text"
      },
      "source": [
        "## 3. Set the URLs"
      ]
    },
    {
      "cell_type": "code",
      "metadata": {
        "id": "BZz5uCX65aLp",
        "colab_type": "code",
        "outputId": "1bfdfd98-7dc6-465e-9c5f-e8d8e1aa798a",
        "colab": {
          "base_uri": "https://localhost:8080/",
          "height": 170
        }
      },
      "source": [
        "# indicate that you're running R code\n",
        "%%R\n",
        "\n",
        "# URL list from https://www.cndhi-ipnpc.ca/en?&page=0 to https://www.cndhi-ipnpc.ca/en?&page=151\n",
        "\n",
        "x <- 0:2\n",
        "\n",
        "urllist <- lapply(x, function(x){\n",
        "  index_url <-paste(\"https://www.cndhi-ipnpc.ca/en?&page=\",x,\"/\",sep='');\n",
        "  return(index_url)\n",
        "})\n",
        "\n",
        "urllist"
      ],
      "execution_count": 0,
      "outputs": [
        {
          "output_type": "display_data",
          "data": {
            "text/plain": [
              "[[1]]\n",
              "[1] \"https://www.cndhi-ipnpc.ca/en?&page=0/\"\n",
              "\n",
              "[[2]]\n",
              "[1] \"https://www.cndhi-ipnpc.ca/en?&page=1/\"\n",
              "\n",
              "[[3]]\n",
              "[1] \"https://www.cndhi-ipnpc.ca/en?&page=2/\"\n",
              "\n"
            ]
          },
          "metadata": {
            "tags": []
          }
        }
      ]
    },
    {
      "cell_type": "markdown",
      "metadata": {
        "id": "uj--ANPq8n-1",
        "colab_type": "text"
      },
      "source": [
        "## 4. Extract data elements from the URL list"
      ]
    },
    {
      "cell_type": "code",
      "metadata": {
        "id": "u7c55GxJ8r6l",
        "colab_type": "code",
        "outputId": "a83e508a-d17d-4c6e-b2df-4444b6c66dbc",
        "colab": {
          "base_uri": "https://localhost:8080/",
          "height": 1000
        }
      },
      "source": [
        "# indicate that you're running R code\n",
        "%%R\n",
        "\n",
        "# Extract elements from the url using Xpath for title, institution, keywords\n",
        "\n",
        "DATA_index_multiple<-ContentScraper(Url = urllist,\n",
        "XpathPatterns=c(\"//div[@class='collection--title']/a/text()\",\"//div[@class='collection--institution']\", \"//div[@class='collection-keywords']\"), PatternsName=c(\"title\", \"institution\", \"keywords\"), ManyPerPattern=TRUE)\n",
        "\n",
        "# Return a list\n",
        "\n",
        "DATA_index_multiple"
      ],
      "execution_count": 0,
      "outputs": [
        {
          "output_type": "display_data",
          "data": {
            "text/plain": [
              "1..2..3..[[1]]\n",
              "[[1]]$title\n",
              " [1] \"Early Modern Maritime Recipes\"             \n",
              " [2] \"Oeuvres d’art public de l’Université Laval\"\n",
              " [3] \"Théâtre à Montréal, 1825-1930\"             \n",
              " [4] \"50 Years of Expo 67\"                       \n",
              " [5] \"Olympic Torch Relay\"                       \n",
              " [6] \"Cartes anciennes de l'Arctique\"            \n",
              " [7] \"Images en art et architecture du Québec\"   \n",
              " [8] \"Images du Nord et de l’Arctique\"           \n",
              " [9] \"The Canadian Jazz Archive Online\"          \n",
              "[10] \"John H. Warkentin\"                         \n",
              "\n",
              "[[1]]$institution\n",
              " [1] \"University of New Brunswick and Dalhousie University\"\n",
              " [2] \"Bibliothèque de l'Université Laval\\n\"                \n",
              " [3] \"Bibliothèque et Archives nationales du Québec\"       \n",
              " [4] \"Library and Archives Canada\"                         \n",
              " [5] \"City of Vancouver Archives\"                          \n",
              " [6] \"Bibliothèque de l'Université Laval\\n\"                \n",
              " [7] \"Bibliothèque de l'Université Laval\\n\"                \n",
              " [8] \"Bibliothèque de l'Université Laval\\n\"                \n",
              " [9] \"Jazz FM.91\"                                          \n",
              "[10] \"York University\"                                     \n",
              "\n",
              "[[1]]$keywords\n",
              " [1] \"Food, Prince Edward Island, Nova Scotia, New Brunswick, Local history\"\n",
              " [2] \"Visual arts, Quebec\"                                                  \n",
              " [3] \"Theatre, Architecture, Quebec\"                                        \n",
              " [4] \"Miscellany\"                                                           \n",
              " [5] \"Sports\"                                                               \n",
              " [6] \"Arctic\"                                                               \n",
              " [7] \"Architecture, Quebec, Visual arts\"                                    \n",
              " [8] \"Arctic\"                                                               \n",
              " [9] \"Music\"                                                                \n",
              "[10] \"Geography\"                                                            \n",
              "\n",
              "\n",
              "[[2]]\n",
              "[[2]]$title\n",
              " [1] \"The Canadian Jazz Archive Online\"                          \n",
              " [2] \"John H. Warkentin\"                                         \n",
              " [3] \"Lou Wise Fonds\"                                            \n",
              " [4] \"Greek Canadian History Project\"                            \n",
              " [5] \"CN  Images of Canada Gallery\"                              \n",
              " [6] \"Road to Autonomy\"                                          \n",
              " [7] \"Ottawa Museums and Archives Collections\"                   \n",
              " [8] \"Newsletters of Canadians in Alternative Service, 1942-1945\"\n",
              " [9] \"Ontario Mennonites and the First World War\"                \n",
              "[10] \"40 years of Autonomy\"                                      \n",
              "\n",
              "[[2]]$institution\n",
              " [1] \"Jazz FM.91\"                               \n",
              " [2] \"York University\"                          \n",
              " [3] \"York University\"                          \n",
              " [4] \"York University\"                          \n",
              " [5] \"Canadian Museum of Science and Technology\"\n",
              " [6] \"University of Calgary\"                    \n",
              " [7] \"City of Ottawa\"                           \n",
              " [8] \"University of Waterloo\"                   \n",
              " [9] \"University of Waterloo\"                   \n",
              "[10] \"University of Calgary\"                    \n",
              "\n",
              "[[2]]$keywords\n",
              " [1] \"Music\"              \"Geography\"          \"Geography\"         \n",
              " [4] \"Immigration\"        \"Transportation\"     \"Education, Alberta\"\n",
              " [7] \"Miscellany\"         \"War\"                \"Religion, War\"     \n",
              "[10] \"Education\"         \n",
              "\n",
              "\n",
              "[[3]]\n",
              "[[3]]$title\n",
              " [1] \"Honorary Degree Recipients\"                   \n",
              " [2] \"40 years of Autonomy\"                         \n",
              " [3] \"Gauntlet\"                                     \n",
              " [4] \"John P.L. Roberts Fonds\"                      \n",
              " [5] \"50th Anniversary of the University of Calgary\"\n",
              " [6] \"Gazette\"                                      \n",
              " [7] \"Order of the University of Calgary\"           \n",
              " [8] \"Democracy at War\"                             \n",
              " [9] \"Quesnel Cariboo Observer\"                     \n",
              "[10] \"Bavarijas Latviesu Vestnesis\"                 \n",
              "\n",
              "[[3]]$institution\n",
              " [1] \"University of Calgary\" \"University of Calgary\" \"University of Calgary\"\n",
              " [4] \"University of Calgary\" \"University of Calgary\" \"University of Calgary\"\n",
              " [7] \"University of Calgary\" \"Canadian War Museum\"   \"Quesnel Museum\"       \n",
              "[10] \"Athabasca University\" \n",
              "\n",
              "[[3]]$keywords\n",
              " [1] \"Education\"          \"Education\"          \"Education\"         \n",
              " [4] \"Telecommunication\"  \"Education, Alberta\" \"Education\"         \n",
              " [7] \"Education\"          \"War\"                \"Local history\"     \n",
              "[10] \"Immigration\"       \n",
              "\n",
              "\n"
            ]
          },
          "metadata": {
            "tags": []
          }
        }
      ]
    },
    {
      "cell_type": "markdown",
      "metadata": {
        "id": "-g9kXlM0_LTF",
        "colab_type": "text"
      },
      "source": [
        "# Save in the dataframe using rbindlist from data.table"
      ]
    },
    {
      "cell_type": "code",
      "metadata": {
        "id": "qfnQhK_A6w15",
        "colab_type": "code",
        "outputId": "5b476ee9-9ec4-4be1-e35a-52db77f3e08d",
        "colab": {
          "base_uri": "https://localhost:8080/",
          "height": 629
        }
      },
      "source": [
        "# indicate that you're running R code\n",
        "%%R\n",
        "\n",
        "# Convert list to the dataframe\n",
        "\n",
        "df_index_multiple <- rbindlist(DATA_index_multiple)\n",
        "df_index_multiple"
      ],
      "execution_count": 0,
      "outputs": [
        {
          "output_type": "display_data",
          "data": {
            "text/plain": [
              "                                                title\n",
              "   1:                   Early Modern Maritime Recipes\n",
              "   2:      Oeuvres d’art public de l’Université Laval\n",
              "   3:                   Théâtre à Montréal, 1825-1930\n",
              "   4:                             50 Years of Expo 67\n",
              "   5:                             Olympic Torch Relay\n",
              "  ---                                                \n",
              "1509:                     Notable Works & Collections\n",
              "1510:                        Brown and Gold Yearbooks\n",
              "1511:                      Harrison Flint Lewis Fonds\n",
              "1512:                             The Island Magazine\n",
              "1513: Historical Topographic Map Digitization Project\n",
              "                                               institution\n",
              "   1: University of New Brunswick and Dalhousie University\n",
              "   2:                 Bibliothèque de l'Université Laval\\n\n",
              "   3:        Bibliothèque et Archives nationales du Québec\n",
              "   4:                          Library and Archives Canada\n",
              "   5:                           City of Vancouver Archives\n",
              "  ---                                                     \n",
              "1509:                         University of Saskatchewan\\n\n",
              "1510:                             University of Manitoba\\n\n",
              "1511:                                  Acadia University\\n\n",
              "1512:                 University of Prince Edward Island\\n\n",
              "1513:              Ontario Council of University Libraries\n",
              "                                                                   keywords\n",
              "   1: Food, Prince Edward Island, Nova Scotia, New Brunswick, Local history\n",
              "   2:                                                   Visual arts, Quebec\n",
              "   3:                                         Theatre, Architecture, Quebec\n",
              "   4:                                                            Miscellany\n",
              "   5:                                                                Sports\n",
              "  ---                                                                      \n",
              "1509:                                   Education, Literature, Saskatchewan\n",
              "1510:                                                   Education, Manitoba\n",
              "1511:                                              Animals, Natural science\n",
              "1512:                                                  Prince Edward Island\n",
              "1513:                                                    Ontario, Geography\n"
            ]
          },
          "metadata": {
            "tags": []
          }
        }
      ]
    },
    {
      "cell_type": "markdown",
      "metadata": {
        "id": "DIlqsQtp_qmT",
        "colab_type": "text"
      },
      "source": [
        "# Export to CSV\n",
        "\n",
        "Import neccesary libraries. The file will be saved in the virtual machine, so in order to download a csv file to your local computer, you need to import *files* from google.colab. \n",
        "\n",
        "## 1. Libraries\n",
        "\n",
        "*   [csv](https://docs.python.org/3/library/csv.html): the most common import and export format for spreadsheets and databases."
      ]
    },
    {
      "cell_type": "code",
      "metadata": {
        "id": "B9HNKA6Z_3i7",
        "colab_type": "code",
        "colab": {}
      },
      "source": [
        "# import\n",
        "import csv\n",
        "from google.colab import files"
      ],
      "execution_count": 0,
      "outputs": []
    },
    {
      "cell_type": "code",
      "metadata": {
        "id": "jQeB7ItJ_6I7",
        "colab_type": "code",
        "colab": {}
      },
      "source": [
        "# indicate that you're running R code\n",
        "%%R\n",
        "\n",
        "# Save dataframe to CSV\n",
        "write.csv(df_index_multiple, \"CanadianDigital.csv\", fileEncoding=\"UTF-8\")"
      ],
      "execution_count": 0,
      "outputs": []
    },
    {
      "cell_type": "code",
      "metadata": {
        "id": "7DIv-N_FANWM",
        "colab_type": "code",
        "colab": {}
      },
      "source": [
        "# Download the file to your computer\n",
        "files.download(\"CanadianDigital.csv\")"
      ],
      "execution_count": 0,
      "outputs": []
    },
    {
      "cell_type": "markdown",
      "metadata": {
        "id": "YQSpVRDtLKy7",
        "colab_type": "text"
      },
      "source": [
        "# Data Wrangling\n",
        "\n",
        "Sometimes, the data you scraped from the website are not organized in a way you wanted, so you may need to tidy your datasets.\n",
        "\n",
        "*   [tidyr](https://https://cran.r-project.org/web/packages/tidyr/index.html): tools to tidy your data\n",
        "*   [magrittr](https://cran.r-project.org/web/packages/magrittr/index.html): pipe operator %>%\n",
        "*   [dplyr](https://https://cran.r-project.org/web/packages/dplyr/dplyr.pdf): tools for data manipulation"
      ]
    },
    {
      "cell_type": "code",
      "metadata": {
        "id": "Ns1-NAHjLzzz",
        "colab_type": "code",
        "outputId": "8cb4c483-9376-4209-9479-993fcb7fdf69",
        "colab": {
          "base_uri": "https://localhost:8080/",
          "height": 595
        }
      },
      "source": [
        "# indicate that you're running R code\n",
        "%%R\n",
        "\n",
        "# install\n",
        "install.packages('tidyr')\n",
        "install.packages('magrittr')\n",
        "install.packages('dplyr')\n",
        "\n",
        "# import\n",
        "library('tidyr')\n",
        "library('magrittr')\n",
        "library('dplyr')"
      ],
      "execution_count": 0,
      "outputs": [
        {
          "output_type": "stream",
          "text": [
            "/usr/local/lib/python3.6/dist-packages/rpy2/rinterface/__init__.py:146: RRuntimeWarning: \n",
            "Attaching package: ‘magrittr’\n",
            "\n",
            "\n",
            "  warnings.warn(x, RRuntimeWarning)\n",
            "/usr/local/lib/python3.6/dist-packages/rpy2/rinterface/__init__.py:146: RRuntimeWarning: The following object is masked from ‘package:tidyr’:\n",
            "\n",
            "    extract\n",
            "\n",
            "\n",
            "  warnings.warn(x, RRuntimeWarning)\n",
            "/usr/local/lib/python3.6/dist-packages/rpy2/rinterface/__init__.py:146: RRuntimeWarning: \n",
            "Attaching package: ‘dplyr’\n",
            "\n",
            "\n",
            "  warnings.warn(x, RRuntimeWarning)\n",
            "/usr/local/lib/python3.6/dist-packages/rpy2/rinterface/__init__.py:146: RRuntimeWarning: The following objects are masked from ‘package:data.table’:\n",
            "\n",
            "    between, first, last\n",
            "\n",
            "\n",
            "  warnings.warn(x, RRuntimeWarning)\n",
            "/usr/local/lib/python3.6/dist-packages/rpy2/rinterface/__init__.py:146: RRuntimeWarning: The following objects are masked from ‘package:stats’:\n",
            "\n",
            "    filter, lag\n",
            "\n",
            "\n",
            "  warnings.warn(x, RRuntimeWarning)\n",
            "/usr/local/lib/python3.6/dist-packages/rpy2/rinterface/__init__.py:146: RRuntimeWarning: The following objects are masked from ‘package:base’:\n",
            "\n",
            "    intersect, setdiff, setequal, union\n",
            "\n",
            "\n",
            "  warnings.warn(x, RRuntimeWarning)\n"
          ],
          "name": "stderr"
        }
      ]
    },
    {
      "cell_type": "code",
      "metadata": {
        "id": "ZjaE1KuLMPIp",
        "colab_type": "code",
        "outputId": "149762b6-af4c-4ffb-c5b0-72a10c286e45",
        "colab": {
          "base_uri": "https://localhost:8080/",
          "height": 629
        }
      },
      "source": [
        "# indicate that you're running R code\n",
        "%%R\n",
        "\n",
        "# separate one column (keywords) into several\n",
        "\n",
        "df_index_multiple_1 <- df_index_multiple %>% tidyr::separate(keywords, c(\"K1\", \"K2\", \"K3\", \"K4\", \"K5\"), sep=\", \")\n",
        "df_index_multiple_1"
      ],
      "execution_count": 0,
      "outputs": [
        {
          "output_type": "display_data",
          "data": {
            "text/plain": [
              "                                                title\n",
              "   1:                   Early Modern Maritime Recipes\n",
              "   2:      Oeuvres d’art public de l’Université Laval\n",
              "   3:                   Théâtre à Montréal, 1825-1930\n",
              "   4:                             50 Years of Expo 67\n",
              "   5:                             Olympic Torch Relay\n",
              "  ---                                                \n",
              "1509:                     Notable Works & Collections\n",
              "1510:                        Brown and Gold Yearbooks\n",
              "1511:                      Harrison Flint Lewis Fonds\n",
              "1512:                             The Island Magazine\n",
              "1513: Historical Topographic Map Digitization Project\n",
              "                                               institution                   K1\n",
              "   1: University of New Brunswick and Dalhousie University                 Food\n",
              "   2:                 Bibliothèque de l'Université Laval\\n          Visual arts\n",
              "   3:        Bibliothèque et Archives nationales du Québec              Theatre\n",
              "   4:                          Library and Archives Canada           Miscellany\n",
              "   5:                           City of Vancouver Archives               Sports\n",
              "  ---                                                                          \n",
              "1509:                         University of Saskatchewan\\n            Education\n",
              "1510:                             University of Manitoba\\n            Education\n",
              "1511:                                  Acadia University\\n              Animals\n",
              "1512:                 University of Prince Edward Island\\n Prince Edward Island\n",
              "1513:              Ontario Council of University Libraries              Ontario\n",
              "                        K2           K3            K4            K5\n",
              "   1: Prince Edward Island  Nova Scotia New Brunswick Local history\n",
              "   2:               Quebec         <NA>          <NA>          <NA>\n",
              "   3:         Architecture       Quebec          <NA>          <NA>\n",
              "   4:                 <NA>         <NA>          <NA>          <NA>\n",
              "   5:                 <NA>         <NA>          <NA>          <NA>\n",
              "  ---                                                              \n",
              "1509:           Literature Saskatchewan          <NA>          <NA>\n",
              "1510:             Manitoba         <NA>          <NA>          <NA>\n",
              "1511:      Natural science         <NA>          <NA>          <NA>\n",
              "1512:                 <NA>         <NA>          <NA>          <NA>\n",
              "1513:            Geography         <NA>          <NA>          <NA>\n"
            ]
          },
          "metadata": {
            "tags": []
          }
        }
      ]
    },
    {
      "cell_type": "code",
      "metadata": {
        "id": "_mtirFXFPkZc",
        "colab_type": "code",
        "outputId": "9bb421b4-80da-4767-b54f-d34120394840",
        "colab": {
          "base_uri": "https://localhost:8080/",
          "height": 255
        }
      },
      "source": [
        "# indicate that you're running R code\n",
        "%%R\n",
        "\n",
        "# count from dplyr\n",
        "institutions <- df_index_multiple_1 %>% count(institution) \n",
        "\n",
        "# sort\n",
        "institutions[order(-institutions$n), ]"
      ],
      "execution_count": 0,
      "outputs": [
        {
          "output_type": "display_data",
          "data": {
            "text/plain": [
              "# A tibble: 246 x 2\n",
              "   institution                                      n\n",
              "   <chr>                                        <int>\n",
              " 1 Royal British Columbia Museum                  147\n",
              " 2 \"Memorial University of Newfoundland\\n\"        111\n",
              " 3 Library and Archives Canada                     97\n",
              " 4 University of Manitoba                          91\n",
              " 5 \"Acadia University\\n\"                           56\n",
              " 6 University of British Columbia                  56\n",
              " 7 University of Alberta                           53\n",
              " 8 University of Saskatchewan                      44\n",
              " 9 \"Multicultural History Society of Ontario\\n\"    35\n",
              "10 Simon Fraser University                         35\n",
              "# … with 236 more rows\n"
            ]
          },
          "metadata": {
            "tags": []
          }
        }
      ]
    },
    {
      "cell_type": "markdown",
      "metadata": {
        "id": "Rta6_2IkTlMo",
        "colab_type": "text"
      },
      "source": [
        "# Data visualization (word cloud)\n",
        "\n"
      ]
    },
    {
      "cell_type": "code",
      "metadata": {
        "id": "DBWjQORvUFT-",
        "colab_type": "code",
        "colab": {}
      },
      "source": [
        "# indicate that you're running R code\n",
        "%%R\n",
        "\n",
        "# Install\n",
        "install.packages(\"tm\")  # for text mining\n",
        "install.packages(\"wordcloud\")# word-cloud generator \n",
        "install.packages(\"RColorBrewer\") # color palettes\n",
        "\n",
        "# Load\n",
        "library(\"tm\")\n",
        "library(\"wordcloud\")\n",
        "library(\"RColorBrewer\")"
      ],
      "execution_count": 0,
      "outputs": []
    },
    {
      "cell_type": "code",
      "metadata": {
        "id": "yHRs_9pTUZXf",
        "colab_type": "code",
        "outputId": "4725dd7b-8c83-48f5-ac07-dbb776fe533a",
        "colab": {
          "base_uri": "https://localhost:8080/",
          "height": 68
        }
      },
      "source": [
        "# indicate that you're running R code\n",
        "%%R\n",
        "\n",
        "## The codes below came from Céline Van den Rul: https://towardsdatascience.com/create-a-word-cloud-with-r-bde3e7422e8\n",
        "# Create a vector \n",
        "text <- as.vector(as.matrix(df_index_multiple_1[, c(\"K1\", \"K2\", \"K3\", \"K4\", \"K5\")]))\n",
        "text\n",
        "\n",
        "# Remove NA value\n",
        "text <- na.omit(text)\n",
        "text\n",
        "\n",
        "## The codes below came from Céline Van den Rul: https://towardsdatascience.com/create-a-word-cloud-with-r-bde3e7422e8\n",
        "# Create a corpus\n",
        "docs <- Corpus(VectorSource(text))\n",
        "docs"
      ],
      "execution_count": 0,
      "outputs": [
        {
          "output_type": "display_data",
          "data": {
            "text/plain": [
              "<<SimpleCorpus>>\n",
              "Metadata:  corpus specific: 1, document level (indexed): 0\n",
              "Content:  documents: 3406\n"
            ]
          },
          "metadata": {
            "tags": []
          }
        }
      ]
    },
    {
      "cell_type": "code",
      "metadata": {
        "id": "ABsDdusyWzOR",
        "colab_type": "code",
        "outputId": "b852e508-fe97-49f5-ea3d-5a5d979c608a",
        "colab": {
          "base_uri": "https://localhost:8080/",
          "height": 1000
        }
      },
      "source": [
        "# indicate that you're running R code\n",
        "%%R\n",
        "\n",
        "## The codes below came from Céline Van den Rul: https://towardsdatascience.com/create-a-word-cloud-with-r-bde3e7422e8\n",
        "# create a document-term-matrix\n",
        "dtm <- TermDocumentMatrix(docs) \n",
        "matrix <- as.matrix(dtm) \n",
        "words <- sort(rowSums(matrix),decreasing=TRUE) \n",
        "df_words <- data.frame(word = names(words),freq=words)\n",
        "df_words"
      ],
      "execution_count": 0,
      "outputs": [
        {
          "output_type": "display_data",
          "data": {
            "text/plain": [
              "                               word freq\n",
              "history                     history  337\n",
              "local                         local  337\n",
              "british                     british  272\n",
              "columbia                   columbia  272\n",
              "education                 education  210\n",
              "aboriginal               aboriginal  151\n",
              "peoples                     peoples  151\n",
              "arts                           arts  131\n",
              "visual                       visual  131\n",
              "and                             and  124\n",
              "labrador                   labrador  124\n",
              "newfoundland           newfoundland  124\n",
              "nova                           nova  105\n",
              "scotia                       scotia  105\n",
              "ontario                     ontario   97\n",
              "religion                   religion   93\n",
              "manitoba                   manitoba   92\n",
              "europe                       europe   85\n",
              "quebec                       quebec   81\n",
              "alberta                     alberta   80\n",
              "immigration             immigration   76\n",
              "architecture           architecture   72\n",
              "miscellany               miscellany   65\n",
              "saskatchewan           saskatchewan   63\n",
              "politics                   politics   62\n",
              "care                           care   52\n",
              "health                       health   52\n",
              "languages                 languages   52\n",
              "minority                   minority   52\n",
              "canadians                 canadians   51\n",
              "french                       french   51\n",
              "literature               literature   50\n",
              "asia                           asia   50\n",
              "war                             war   47\n",
              "agriculture             agriculture   44\n",
              "music                         music   43\n",
              "family                       family   41\n",
              "women                         women   41\n",
              "military                   military   40\n",
              "transportation       transportation   39\n",
              "government               government   39\n",
              "minorities               minorities   38\n",
              "visible                     visible   38\n",
              "edward                       edward   37\n",
              "island                       island   37\n",
              "prince                       prince   37\n",
              "food                           food   35\n",
              "interviews               interviews   35\n",
              "brunswick                 brunswick   35\n",
              "new                             new   35\n",
              "geography                 geography   34\n",
              "animals                     animals   34\n",
              "sports                       sports   24\n",
              "science                     science   24\n",
              "law                             law   24\n",
              "natural                     natural   21\n",
              "youth                         youth   21\n",
              "clothing                   clothing   20\n",
              "economics                 economics   19\n",
              "international         international   19\n",
              "relations                 relations   19\n",
              "industry                   industry   18\n",
              "mining                       mining   16\n",
              "environmentalism   environmentalism   16\n",
              "historic                   historic   15\n",
              "sites                         sites   15\n",
              "states                       states   15\n",
              "united                       united   15\n",
              "theatre                     theatre   14\n",
              "folklore                   folklore   13\n",
              "wood                           wood   13\n",
              "humour                       humour   12\n",
              "arctic                       arctic   11\n",
              "sexuality                 sexuality   11\n",
              "speeches                   speeches   11\n",
              "telecommunication telecommunication   10\n",
              "yukon                         yukon    9\n",
              "nunavut                     nunavut    8\n",
              "dance                         dance    8\n",
              "northwest                 northwest    8\n",
              "territories             territories    8\n",
              "energy                       energy    4\n",
              "refugees                   refugees    4\n",
              "social                       social    3\n",
              "caribbean                 caribbean    2\n",
              "humanities               humanities    2\n",
              "america                     america    2\n",
              "latin                         latin    2\n",
              "film                           film    1\n",
              "disability               disability    1\n",
              "mathematics             mathematics    1\n",
              "africa                       africa    1\n"
            ]
          },
          "metadata": {
            "tags": []
          }
        }
      ]
    },
    {
      "cell_type": "code",
      "metadata": {
        "id": "KiMPC99RW_EA",
        "colab_type": "code",
        "outputId": "0830e31a-bcd8-42bf-a9bd-5009b020e64d",
        "colab": {
          "base_uri": "https://localhost:8080/",
          "height": 497
        }
      },
      "source": [
        "# indicate that you're running R code\n",
        "%%R\n",
        "\n",
        "# wordcloud\n",
        "wordcloud(words = df_words$word, freq = df_words$freq, min.freq = 1, max.words=200, random.order=FALSE, rot.per=0.35, colors=brewer.pal(8, \"Dark2\"))"
      ],
      "execution_count": 0,
      "outputs": [
        {
          "output_type": "display_data",
          "data": {
            "image/png": "[encoded data removed]"
          },
          "metadata": {
            "tags": []
          }
        }
      ]
    }
  ]
}